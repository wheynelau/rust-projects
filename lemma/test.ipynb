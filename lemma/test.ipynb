{
 "cells": [
  {
   "cell_type": "code",
   "execution_count": 1,
   "metadata": {},
   "outputs": [
    {
     "name": "stdout",
     "output_type": "stream",
     "text": [
      "  1 This software and database is being provided to you, the LICENSEE, by  \n",
      "\n",
      "  2 Princeton University under the following license.  By obtaining, using  \n",
      "\n",
      "  3 and/or copying this software and database, you agree that you have  \n",
      "\n",
      "  4 read, understood, and will comply with these terms and conditions.:  \n",
      "\n",
      "  5   \n",
      "\n",
      "  6 Permission to use, copy, modify and distribute this software and  \n",
      "\n",
      "  7 database and its documentation for any purpose and without fee or  \n",
      "\n",
      "  8 royalty is hereby granted, provided that you agree to comply with  \n",
      "\n",
      "  9 the following copyright notice and statements, including the disclaimer,  \n",
      "\n",
      "  10 and that the same appear on ALL copies of the software, database and  \n",
      "\n",
      "  11 documentation, including modifications that you make for internal  \n",
      "\n",
      "  12 use or for distribution.  \n",
      "\n",
      "  13   \n",
      "\n",
      "  14 WordNet 3.0 Copyright 2006 by Princeton University.  All rights reserved.  \n",
      "\n",
      "  15   \n",
      "\n",
      "  16 THIS SOFTWARE AND DATABASE IS PROVIDED \"AS IS\" AND PRINCETON  \n",
      "\n",
      "  17 UNIVERSITY MAKES NO REPRESENTATIONS OR WARRANTIES, EXPRESS OR  \n",
      "\n",
      "  18 IMPLIED.  BY WAY OF EXAMPLE, BUT NOT LIMITATION, PRINCETON  \n",
      "\n",
      "  19 UNIVERSITY MAKES NO REPRESENTATIONS OR WARRANTIES OF MERCHANT-  \n",
      "\n",
      "  20 ABILITY OR FITNESS FOR ANY PARTICULAR PURPOSE OR THAT THE USE  \n",
      "\n",
      "  21 OF THE LICENSED SOFTWARE, DATABASE OR DOCUMENTATION WILL NOT  \n",
      "\n",
      "  22 INFRINGE ANY THIRD PARTY PATENTS, COPYRIGHTS, TRADEMARKS OR  \n",
      "\n",
      "  23 OTHER RIGHTS.  \n",
      "\n",
      "  24   \n",
      "\n",
      "  25 The name of Princeton University or Princeton may not be used in  \n",
      "\n",
      "  26 advertising or publicity pertaining to distribution of the software  \n",
      "\n",
      "  27 and/or database.  Title to copyright in this software, database and  \n",
      "\n",
      "  28 any associated documentation shall at all times remain with  \n",
      "\n",
      "  29 Princeton University and LICENSEE agrees to preserve same.  \n",
      "\n"
     ]
    }
   ],
   "source": [
    "with open (\"WNdb/data.noun\", 'r') as f:\n",
    "    lines = f.readlines()\n",
    "    for line in lines:\n",
    "        if line.startswith(\" \"):\n",
    "            print(line)"
   ]
  },
  {
   "cell_type": "code",
   "execution_count": null,
   "metadata": {},
   "outputs": [],
   "source": []
  }
 ],
 "metadata": {
  "kernelspec": {
   "display_name": "base",
   "language": "python",
   "name": "python3"
  },
  "language_info": {
   "codemirror_mode": {
    "name": "ipython",
    "version": 3
   },
   "file_extension": ".py",
   "mimetype": "text/x-python",
   "name": "python",
   "nbconvert_exporter": "python",
   "pygments_lexer": "ipython3",
   "version": "3.9.16"
  }
 },
 "nbformat": 4,
 "nbformat_minor": 2
}
